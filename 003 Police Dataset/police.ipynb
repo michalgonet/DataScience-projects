{
 "cells": [
  {
   "cell_type": "markdown",
   "metadata": {},
   "source": [
    "based on: https://www.youtube.com/watch?v=GyUbo45mVSE\n",
    "\n",
    "# Police Dataset\n",
    "Here data from Police Check Post is given\n",
    "This data is in CVS and it is analyzed using Pandas DataFrame"
   ]
  },
  {
   "cell_type": "markdown",
   "metadata": {},
   "source": []
  }
 ],
 "metadata": {
  "language_info": {
   "name": "python"
  },
  "orig_nbformat": 4
 },
 "nbformat": 4,
 "nbformat_minor": 2
}
