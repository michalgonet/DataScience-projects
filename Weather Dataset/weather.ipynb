{
 "cells": [
  {
   "cell_type": "markdown",
   "metadata": {},
   "source": [
    "# Weather Dataset - introduction to Pandas \n",
    "In this project some basic pandas functionalities are demonstrate based on Weather Dataset which is a time-series data set with per-hour intormation about the weather conditions at a particular location. It records temperature, dew point temperature, relative humidity, wind speed, visiblility, preassure and conditions The basic pandas functions used in this short project include:\n",
    "- nunique() & unique()\n",
    "- value_counts()\n",
    "- Filtering \n",
    "- groupby()\n",
    "- getgroup()\n",
    "- isnull() & notnull()\n",
    "- rename()\n",
    "- mean()\n",
    "- std()\n",
    "- var()\n",
    "- str.contains()\n",
    "- And (&) Operator\n",
    "- Or (|) Operator\n",
    "- min() & max ()\n",
    "\n",
    "Lets start by importing the pandas"
   ]
  },
  {
   "cell_type": "code",
   "execution_count": 2,
   "metadata": {},
   "outputs": [],
   "source": [
    "import pandas as pd"
   ]
  }
 ],
 "metadata": {
  "kernelspec": {
   "display_name": "datasci_env",
   "language": "python",
   "name": "python3"
  },
  "language_info": {
   "codemirror_mode": {
    "name": "ipython",
    "version": 3
   },
   "file_extension": ".py",
   "mimetype": "text/x-python",
   "name": "python",
   "nbconvert_exporter": "python",
   "pygments_lexer": "ipython3",
   "version": "3.9.13"
  },
  "orig_nbformat": 4
 },
 "nbformat": 4,
 "nbformat_minor": 2
}
