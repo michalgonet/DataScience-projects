{
 "cells": [
  {
   "cell_type": "markdown",
   "metadata": {},
   "source": [
    "Based on:\n",
    "https://www.youtube.com/watch?v=4hYOkHijtNw"
   ]
  },
  {
   "cell_type": "markdown",
   "metadata": {},
   "source": [
    "# Weather Dataset - introduction to Pandas \n",
    "In this project some basic pandas functionalities are demonstrate based on Weather Dataset which is a time-series data set with per-hour intormation about the weather conditions at a particular location. It records temperature, dew point temperature, relative humidity, wind speed, visiblility, preassure and conditions The basic pandas functions used in this short project include:\n",
    "- nunique() & unique()\n",
    "- value_counts()\n",
    "- Filtering \n",
    "- groupby()\n",
    "- getgroup()\n",
    "- isnull() & notnull()\n",
    "- rename()\n",
    "- mean()\n",
    "- std()\n",
    "- var()\n",
    "- str.contains()\n",
    "- And (&) Operator\n",
    "- Or (|) Operator\n",
    "- min() & max ()\n",
    "\n",
    "Lets start by importing the pandas"
   ]
  },
  {
   "cell_type": "code",
   "execution_count": 69,
   "metadata": {},
   "outputs": [],
   "source": [
    "import pandas as pd\n",
    "pd.set_option('display.expand_frame_repr', False) # for showing width of the colums better\n"
   ]
  },
  {
   "cell_type": "markdown",
   "metadata": {},
   "source": [
    "Lets load the dataset as DataFrame"
   ]
  },
  {
   "cell_type": "code",
   "execution_count": 6,
   "metadata": {},
   "outputs": [],
   "source": [
    "data = pd.read_csv(\"weather_dataset.csv\")"
   ]
  },
  {
   "cell_type": "markdown",
   "metadata": {},
   "source": [
    "### .head() \n",
    "It shows the first n rows in the data (be default n=5)"
   ]
  },
  {
   "cell_type": "code",
   "execution_count": 7,
   "metadata": {},
   "outputs": [
    {
     "data": {
      "text/html": [
       "<div>\n",
       "<style scoped>\n",
       "    .dataframe tbody tr th:only-of-type {\n",
       "        vertical-align: middle;\n",
       "    }\n",
       "\n",
       "    .dataframe tbody tr th {\n",
       "        vertical-align: top;\n",
       "    }\n",
       "\n",
       "    .dataframe thead th {\n",
       "        text-align: right;\n",
       "    }\n",
       "</style>\n",
       "<table border=\"1\" class=\"dataframe\">\n",
       "  <thead>\n",
       "    <tr style=\"text-align: right;\">\n",
       "      <th></th>\n",
       "      <th>Date/Time</th>\n",
       "      <th>Temp_C</th>\n",
       "      <th>Dew Point Temp_C</th>\n",
       "      <th>Rel Hum_%</th>\n",
       "      <th>Wind Speed_km/h</th>\n",
       "      <th>Visibility_km</th>\n",
       "      <th>Press_kPa</th>\n",
       "      <th>Weather</th>\n",
       "    </tr>\n",
       "  </thead>\n",
       "  <tbody>\n",
       "    <tr>\n",
       "      <th>0</th>\n",
       "      <td>1/1/2012 0:00</td>\n",
       "      <td>-1.8</td>\n",
       "      <td>-3.9</td>\n",
       "      <td>86</td>\n",
       "      <td>4</td>\n",
       "      <td>8.0</td>\n",
       "      <td>101.24</td>\n",
       "      <td>Fog</td>\n",
       "    </tr>\n",
       "    <tr>\n",
       "      <th>1</th>\n",
       "      <td>1/1/2012 1:00</td>\n",
       "      <td>-1.8</td>\n",
       "      <td>-3.7</td>\n",
       "      <td>87</td>\n",
       "      <td>4</td>\n",
       "      <td>8.0</td>\n",
       "      <td>101.24</td>\n",
       "      <td>Fog</td>\n",
       "    </tr>\n",
       "    <tr>\n",
       "      <th>2</th>\n",
       "      <td>1/1/2012 2:00</td>\n",
       "      <td>-1.8</td>\n",
       "      <td>-3.4</td>\n",
       "      <td>89</td>\n",
       "      <td>7</td>\n",
       "      <td>4.0</td>\n",
       "      <td>101.26</td>\n",
       "      <td>Freezing Drizzle,Fog</td>\n",
       "    </tr>\n",
       "    <tr>\n",
       "      <th>3</th>\n",
       "      <td>1/1/2012 3:00</td>\n",
       "      <td>-1.5</td>\n",
       "      <td>-3.2</td>\n",
       "      <td>88</td>\n",
       "      <td>6</td>\n",
       "      <td>4.0</td>\n",
       "      <td>101.27</td>\n",
       "      <td>Freezing Drizzle,Fog</td>\n",
       "    </tr>\n",
       "    <tr>\n",
       "      <th>4</th>\n",
       "      <td>1/1/2012 4:00</td>\n",
       "      <td>-1.5</td>\n",
       "      <td>-3.3</td>\n",
       "      <td>88</td>\n",
       "      <td>7</td>\n",
       "      <td>4.8</td>\n",
       "      <td>101.23</td>\n",
       "      <td>Fog</td>\n",
       "    </tr>\n",
       "    <tr>\n",
       "      <th>5</th>\n",
       "      <td>1/1/2012 5:00</td>\n",
       "      <td>-1.4</td>\n",
       "      <td>-3.3</td>\n",
       "      <td>87</td>\n",
       "      <td>9</td>\n",
       "      <td>6.4</td>\n",
       "      <td>101.27</td>\n",
       "      <td>Fog</td>\n",
       "    </tr>\n",
       "    <tr>\n",
       "      <th>6</th>\n",
       "      <td>1/1/2012 6:00</td>\n",
       "      <td>-1.5</td>\n",
       "      <td>-3.1</td>\n",
       "      <td>89</td>\n",
       "      <td>7</td>\n",
       "      <td>6.4</td>\n",
       "      <td>101.29</td>\n",
       "      <td>Fog</td>\n",
       "    </tr>\n",
       "    <tr>\n",
       "      <th>7</th>\n",
       "      <td>1/1/2012 7:00</td>\n",
       "      <td>-1.4</td>\n",
       "      <td>-3.6</td>\n",
       "      <td>85</td>\n",
       "      <td>7</td>\n",
       "      <td>8.0</td>\n",
       "      <td>101.26</td>\n",
       "      <td>Fog</td>\n",
       "    </tr>\n",
       "    <tr>\n",
       "      <th>8</th>\n",
       "      <td>1/1/2012 8:00</td>\n",
       "      <td>-1.4</td>\n",
       "      <td>-3.6</td>\n",
       "      <td>85</td>\n",
       "      <td>9</td>\n",
       "      <td>8.0</td>\n",
       "      <td>101.23</td>\n",
       "      <td>Fog</td>\n",
       "    </tr>\n",
       "    <tr>\n",
       "      <th>9</th>\n",
       "      <td>1/1/2012 9:00</td>\n",
       "      <td>-1.3</td>\n",
       "      <td>-3.1</td>\n",
       "      <td>88</td>\n",
       "      <td>15</td>\n",
       "      <td>4.0</td>\n",
       "      <td>101.20</td>\n",
       "      <td>Fog</td>\n",
       "    </tr>\n",
       "  </tbody>\n",
       "</table>\n",
       "</div>"
      ],
      "text/plain": [
       "       Date/Time  Temp_C  Dew Point Temp_C  Rel Hum_%  Wind Speed_km/h  \\\n",
       "0  1/1/2012 0:00    -1.8              -3.9         86                4   \n",
       "1  1/1/2012 1:00    -1.8              -3.7         87                4   \n",
       "2  1/1/2012 2:00    -1.8              -3.4         89                7   \n",
       "3  1/1/2012 3:00    -1.5              -3.2         88                6   \n",
       "4  1/1/2012 4:00    -1.5              -3.3         88                7   \n",
       "5  1/1/2012 5:00    -1.4              -3.3         87                9   \n",
       "6  1/1/2012 6:00    -1.5              -3.1         89                7   \n",
       "7  1/1/2012 7:00    -1.4              -3.6         85                7   \n",
       "8  1/1/2012 8:00    -1.4              -3.6         85                9   \n",
       "9  1/1/2012 9:00    -1.3              -3.1         88               15   \n",
       "\n",
       "   Visibility_km  Press_kPa               Weather  \n",
       "0            8.0     101.24                   Fog  \n",
       "1            8.0     101.24                   Fog  \n",
       "2            4.0     101.26  Freezing Drizzle,Fog  \n",
       "3            4.0     101.27  Freezing Drizzle,Fog  \n",
       "4            4.8     101.23                   Fog  \n",
       "5            6.4     101.27                   Fog  \n",
       "6            6.4     101.29                   Fog  \n",
       "7            8.0     101.26                   Fog  \n",
       "8            8.0     101.23                   Fog  \n",
       "9            4.0     101.20                   Fog  "
      ]
     },
     "execution_count": 7,
     "metadata": {},
     "output_type": "execute_result"
    }
   ],
   "source": [
    "data.head(n=10)"
   ]
  },
  {
   "cell_type": "markdown",
   "metadata": {},
   "source": [
    "### **.shape** \n",
    "It shows the total number of rows and columns"
   ]
  },
  {
   "cell_type": "code",
   "execution_count": 8,
   "metadata": {},
   "outputs": [
    {
     "data": {
      "text/plain": [
       "(8784, 8)"
      ]
     },
     "execution_count": 8,
     "metadata": {},
     "output_type": "execute_result"
    }
   ],
   "source": [
    "data.shape"
   ]
  },
  {
   "cell_type": "markdown",
   "metadata": {},
   "source": [
    "### **.index**\n",
    "The attribute which provides the index of the dataframe"
   ]
  },
  {
   "cell_type": "code",
   "execution_count": 9,
   "metadata": {},
   "outputs": [
    {
     "data": {
      "text/plain": [
       "RangeIndex(start=0, stop=8784, step=1)"
      ]
     },
     "execution_count": 9,
     "metadata": {},
     "output_type": "execute_result"
    }
   ],
   "source": [
    "data.index"
   ]
  },
  {
   "cell_type": "markdown",
   "metadata": {},
   "source": [
    "### **.columns**\n",
    "It shows the name of the columns in dataframe"
   ]
  },
  {
   "cell_type": "code",
   "execution_count": 10,
   "metadata": {},
   "outputs": [
    {
     "data": {
      "text/plain": [
       "Index(['Date/Time', 'Temp_C', 'Dew Point Temp_C', 'Rel Hum_%',\n",
       "       'Wind Speed_km/h', 'Visibility_km', 'Press_kPa', 'Weather'],\n",
       "      dtype='object')"
      ]
     },
     "execution_count": 10,
     "metadata": {},
     "output_type": "execute_result"
    }
   ],
   "source": [
    "data.columns"
   ]
  },
  {
   "cell_type": "markdown",
   "metadata": {},
   "source": [
    "### **.dtypes**\n",
    "It shows the datatype of selected column"
   ]
  },
  {
   "cell_type": "code",
   "execution_count": null,
   "metadata": {},
   "outputs": [],
   "source": []
  },
  {
   "cell_type": "code",
   "execution_count": 11,
   "metadata": {},
   "outputs": [
    {
     "data": {
      "text/plain": [
       "Date/Time            object\n",
       "Temp_C              float64\n",
       "Dew Point Temp_C    float64\n",
       "Rel Hum_%             int64\n",
       "Wind Speed_km/h       int64\n",
       "Visibility_km       float64\n",
       "Press_kPa           float64\n",
       "Weather              object\n",
       "dtype: object"
      ]
     },
     "execution_count": 11,
     "metadata": {},
     "output_type": "execute_result"
    }
   ],
   "source": [
    "data.dtypes"
   ]
  },
  {
   "cell_type": "markdown",
   "metadata": {},
   "source": [
    "### **.unique**\n",
    "It display all the unique values. It could be applied for single column only not on the whole DataFrame"
   ]
  },
  {
   "cell_type": "code",
   "execution_count": 12,
   "metadata": {},
   "outputs": [
    {
     "data": {
      "text/plain": [
       "array(['Fog', 'Freezing Drizzle,Fog', 'Mostly Cloudy', 'Cloudy', 'Rain',\n",
       "       'Rain Showers', 'Mainly Clear', 'Snow Showers', 'Snow', 'Clear',\n",
       "       'Freezing Rain,Fog', 'Freezing Rain', 'Freezing Drizzle',\n",
       "       'Rain,Snow', 'Moderate Snow', 'Freezing Drizzle,Snow',\n",
       "       'Freezing Rain,Snow Grains', 'Snow,Blowing Snow', 'Freezing Fog',\n",
       "       'Haze', 'Rain,Fog', 'Drizzle,Fog', 'Drizzle',\n",
       "       'Freezing Drizzle,Haze', 'Freezing Rain,Haze', 'Snow,Haze',\n",
       "       'Snow,Fog', 'Snow,Ice Pellets', 'Rain,Haze', 'Thunderstorms,Rain',\n",
       "       'Thunderstorms,Rain Showers', 'Thunderstorms,Heavy Rain Showers',\n",
       "       'Thunderstorms,Rain Showers,Fog', 'Thunderstorms',\n",
       "       'Thunderstorms,Rain,Fog',\n",
       "       'Thunderstorms,Moderate Rain Showers,Fog', 'Rain Showers,Fog',\n",
       "       'Rain Showers,Snow Showers', 'Snow Pellets', 'Rain,Snow,Fog',\n",
       "       'Moderate Rain,Fog', 'Freezing Rain,Ice Pellets,Fog',\n",
       "       'Drizzle,Ice Pellets,Fog', 'Drizzle,Snow', 'Rain,Ice Pellets',\n",
       "       'Drizzle,Snow,Fog', 'Rain,Snow Grains', 'Rain,Snow,Ice Pellets',\n",
       "       'Snow Showers,Fog', 'Moderate Snow,Blowing Snow'], dtype=object)"
      ]
     },
     "execution_count": 12,
     "metadata": {},
     "output_type": "execute_result"
    }
   ],
   "source": [
    "# Display unique values for Last column \"Weather\"\n",
    "data[\"Weather\"].unique()"
   ]
  },
  {
   "cell_type": "markdown",
   "metadata": {},
   "source": [
    "### **.nunique()**\n",
    "It shows the total no. ot unique values in each column. It could be applied on a single column as well as on whole dataframe"
   ]
  },
  {
   "cell_type": "code",
   "execution_count": 13,
   "metadata": {},
   "outputs": [
    {
     "data": {
      "text/plain": [
       "Date/Time           8784\n",
       "Temp_C               533\n",
       "Dew Point Temp_C     489\n",
       "Rel Hum_%             83\n",
       "Wind Speed_km/h       34\n",
       "Visibility_km         24\n",
       "Press_kPa            518\n",
       "Weather               50\n",
       "dtype: int64"
      ]
     },
     "execution_count": 13,
     "metadata": {},
     "output_type": "execute_result"
    }
   ],
   "source": [
    "data.nunique()"
   ]
  },
  {
   "cell_type": "markdown",
   "metadata": {},
   "source": [
    "### **.count()**\n",
    "It shows the total number of non-null in each column.\n",
    "It can be applied on a single column as well as on whole dataframe."
   ]
  },
  {
   "cell_type": "code",
   "execution_count": 15,
   "metadata": {},
   "outputs": [
    {
     "data": {
      "text/plain": [
       "Date/Time           8784\n",
       "Temp_C              8784\n",
       "Dew Point Temp_C    8784\n",
       "Rel Hum_%           8784\n",
       "Wind Speed_km/h     8784\n",
       "Visibility_km       8784\n",
       "Press_kPa           8784\n",
       "Weather             8784\n",
       "dtype: int64"
      ]
     },
     "execution_count": 15,
     "metadata": {},
     "output_type": "execute_result"
    }
   ],
   "source": [
    "data.count()"
   ]
  },
  {
   "cell_type": "markdown",
   "metadata": {},
   "source": [
    "### **.value_counts**\n",
    "In a column it shows all the unique calues with theri count. It can be applied on single column only."
   ]
  },
  {
   "cell_type": "code",
   "execution_count": 19,
   "metadata": {},
   "outputs": [
    {
     "data": {
      "text/plain": [
       "Weather\n",
       "Mainly Clear                               2106\n",
       "Mostly Cloudy                              2069\n",
       "Cloudy                                     1728\n",
       "Clear                                      1326\n",
       "Snow                                        390\n",
       "Rain                                        306\n",
       "Rain Showers                                188\n",
       "Fog                                         150\n",
       "Rain,Fog                                    116\n",
       "Drizzle,Fog                                  80\n",
       "Snow Showers                                 60\n",
       "Drizzle                                      41\n",
       "Snow,Fog                                     37\n",
       "Snow,Blowing Snow                            19\n",
       "Rain,Snow                                    18\n",
       "Thunderstorms,Rain Showers                   16\n",
       "Haze                                         16\n",
       "Drizzle,Snow,Fog                             15\n",
       "Freezing Rain                                14\n",
       "Freezing Drizzle,Snow                        11\n",
       "Freezing Drizzle                              7\n",
       "Snow,Ice Pellets                              6\n",
       "Freezing Drizzle,Fog                          6\n",
       "Snow,Haze                                     5\n",
       "Freezing Fog                                  4\n",
       "Snow Showers,Fog                              4\n",
       "Moderate Snow                                 4\n",
       "Rain,Snow,Ice Pellets                         4\n",
       "Freezing Rain,Fog                             4\n",
       "Freezing Drizzle,Haze                         3\n",
       "Rain,Haze                                     3\n",
       "Thunderstorms,Rain                            3\n",
       "Thunderstorms,Rain Showers,Fog                3\n",
       "Freezing Rain,Haze                            2\n",
       "Drizzle,Snow                                  2\n",
       "Rain Showers,Snow Showers                     2\n",
       "Thunderstorms                                 2\n",
       "Moderate Snow,Blowing Snow                    2\n",
       "Rain Showers,Fog                              1\n",
       "Thunderstorms,Moderate Rain Showers,Fog       1\n",
       "Snow Pellets                                  1\n",
       "Rain,Snow,Fog                                 1\n",
       "Moderate Rain,Fog                             1\n",
       "Freezing Rain,Ice Pellets,Fog                 1\n",
       "Drizzle,Ice Pellets,Fog                       1\n",
       "Thunderstorms,Rain,Fog                        1\n",
       "Rain,Ice Pellets                              1\n",
       "Rain,Snow Grains                              1\n",
       "Thunderstorms,Heavy Rain Showers              1\n",
       "Freezing Rain,Snow Grains                     1\n",
       "Name: count, dtype: int64"
      ]
     },
     "execution_count": 19,
     "metadata": {},
     "output_type": "execute_result"
    }
   ],
   "source": [
    "data['Weather'].value_counts()"
   ]
  },
  {
   "cell_type": "markdown",
   "metadata": {},
   "source": [
    "### **.info()**\n",
    "Provides basic information about the dataframe"
   ]
  },
  {
   "cell_type": "code",
   "execution_count": 20,
   "metadata": {},
   "outputs": [
    {
     "name": "stdout",
     "output_type": "stream",
     "text": [
      "<class 'pandas.core.frame.DataFrame'>\n",
      "RangeIndex: 8784 entries, 0 to 8783\n",
      "Data columns (total 8 columns):\n",
      " #   Column            Non-Null Count  Dtype  \n",
      "---  ------            --------------  -----  \n",
      " 0   Date/Time         8784 non-null   object \n",
      " 1   Temp_C            8784 non-null   float64\n",
      " 2   Dew Point Temp_C  8784 non-null   float64\n",
      " 3   Rel Hum_%         8784 non-null   int64  \n",
      " 4   Wind Speed_km/h   8784 non-null   int64  \n",
      " 5   Visibility_km     8784 non-null   float64\n",
      " 6   Press_kPa         8784 non-null   float64\n",
      " 7   Weather           8784 non-null   object \n",
      "dtypes: float64(4), int64(2), object(2)\n",
      "memory usage: 549.1+ KB\n"
     ]
    }
   ],
   "source": [
    "data.info()"
   ]
  },
  {
   "cell_type": "markdown",
   "metadata": {},
   "source": [
    "## Below are some quastions for training and play with dataset"
   ]
  },
  {
   "cell_type": "markdown",
   "metadata": {},
   "source": [
    "### **Q1) Find all the unique 'Wind Speed' values in data.**"
   ]
  },
  {
   "cell_type": "code",
   "execution_count": 23,
   "metadata": {},
   "outputs": [
    {
     "name": "stdout",
     "output_type": "stream",
     "text": [
      " Thera are 34 unique values for wind speed and they are: [ 4  7  6  9 15 13 20 22 19 24 30 35 39 32 33 26 44 43 48 37 28 17 11  0\n",
      " 83 70 57 46 41 52 50 63 54  2]\n"
     ]
    }
   ],
   "source": [
    "all_unique_wind_speed = data[\"Wind Speed_km/h\"].unique()\n",
    "print(f' Thera are {len(all_unique_wind_speed)} unique values for wind speed and they are: {all_unique_wind_speed}')"
   ]
  },
  {
   "cell_type": "markdown",
   "metadata": {},
   "source": [
    "### **Q2) Find the number of times when the Weather is exactly \"Clear\".**"
   ]
  },
  {
   "cell_type": "code",
   "execution_count": 40,
   "metadata": {},
   "outputs": [
    {
     "name": "stdout",
     "output_type": "stream",
     "text": [
      "Numbers of times when Wheater is clear is : 1326\n"
     ]
    }
   ],
   "source": [
    "weather_values = data[\"Weather\"].value_counts()\n",
    "print(f'Numbers of times when Wheater is clear is : {weather_values[\"Clear\"]}')\n",
    "\n",
    "# To show this value:\n",
    "# data[data.Weather==\"Clear\"]\n",
    "\n",
    "# Using groupby()\n",
    "# data.groupby(\"Weather\").get_group(\"Clear\")"
   ]
  },
  {
   "cell_type": "markdown",
   "metadata": {},
   "source": [
    "### **Q3) Find the number of times when the \"Wind Speed was exactly 4 km/h\".**"
   ]
  },
  {
   "cell_type": "code",
   "execution_count": 41,
   "metadata": {},
   "outputs": [
    {
     "name": "stdout",
     "output_type": "stream",
     "text": [
      "Number of elements when Wind speed is 4 km/h is: 474\n"
     ]
    },
    {
     "data": {
      "text/html": [
       "<div>\n",
       "<style scoped>\n",
       "    .dataframe tbody tr th:only-of-type {\n",
       "        vertical-align: middle;\n",
       "    }\n",
       "\n",
       "    .dataframe tbody tr th {\n",
       "        vertical-align: top;\n",
       "    }\n",
       "\n",
       "    .dataframe thead th {\n",
       "        text-align: right;\n",
       "    }\n",
       "</style>\n",
       "<table border=\"1\" class=\"dataframe\">\n",
       "  <thead>\n",
       "    <tr style=\"text-align: right;\">\n",
       "      <th></th>\n",
       "      <th>Date/Time</th>\n",
       "      <th>Temp_C</th>\n",
       "      <th>Dew Point Temp_C</th>\n",
       "      <th>Rel Hum_%</th>\n",
       "      <th>Wind Speed_km/h</th>\n",
       "      <th>Visibility_km</th>\n",
       "      <th>Press_kPa</th>\n",
       "      <th>Weather</th>\n",
       "    </tr>\n",
       "  </thead>\n",
       "  <tbody>\n",
       "    <tr>\n",
       "      <th>0</th>\n",
       "      <td>1/1/2012 0:00</td>\n",
       "      <td>-1.8</td>\n",
       "      <td>-3.9</td>\n",
       "      <td>86</td>\n",
       "      <td>4</td>\n",
       "      <td>8.0</td>\n",
       "      <td>101.24</td>\n",
       "      <td>Fog</td>\n",
       "    </tr>\n",
       "    <tr>\n",
       "      <th>1</th>\n",
       "      <td>1/1/2012 1:00</td>\n",
       "      <td>-1.8</td>\n",
       "      <td>-3.7</td>\n",
       "      <td>87</td>\n",
       "      <td>4</td>\n",
       "      <td>8.0</td>\n",
       "      <td>101.24</td>\n",
       "      <td>Fog</td>\n",
       "    </tr>\n",
       "    <tr>\n",
       "      <th>96</th>\n",
       "      <td>1/5/2012 0:00</td>\n",
       "      <td>-8.8</td>\n",
       "      <td>-11.7</td>\n",
       "      <td>79</td>\n",
       "      <td>4</td>\n",
       "      <td>9.7</td>\n",
       "      <td>100.32</td>\n",
       "      <td>Snow</td>\n",
       "    </tr>\n",
       "    <tr>\n",
       "      <th>101</th>\n",
       "      <td>1/5/2012 5:00</td>\n",
       "      <td>-7.0</td>\n",
       "      <td>-9.5</td>\n",
       "      <td>82</td>\n",
       "      <td>4</td>\n",
       "      <td>4.0</td>\n",
       "      <td>100.19</td>\n",
       "      <td>Snow</td>\n",
       "    </tr>\n",
       "    <tr>\n",
       "      <th>146</th>\n",
       "      <td>1/7/2012 2:00</td>\n",
       "      <td>-8.1</td>\n",
       "      <td>-11.1</td>\n",
       "      <td>79</td>\n",
       "      <td>4</td>\n",
       "      <td>19.3</td>\n",
       "      <td>100.15</td>\n",
       "      <td>Cloudy</td>\n",
       "    </tr>\n",
       "    <tr>\n",
       "      <th>...</th>\n",
       "      <td>...</td>\n",
       "      <td>...</td>\n",
       "      <td>...</td>\n",
       "      <td>...</td>\n",
       "      <td>...</td>\n",
       "      <td>...</td>\n",
       "      <td>...</td>\n",
       "      <td>...</td>\n",
       "    </tr>\n",
       "    <tr>\n",
       "      <th>8768</th>\n",
       "      <td>12/31/2012 8:00</td>\n",
       "      <td>-8.6</td>\n",
       "      <td>-10.3</td>\n",
       "      <td>87</td>\n",
       "      <td>4</td>\n",
       "      <td>3.2</td>\n",
       "      <td>101.14</td>\n",
       "      <td>Snow Showers</td>\n",
       "    </tr>\n",
       "    <tr>\n",
       "      <th>8769</th>\n",
       "      <td>12/31/2012 9:00</td>\n",
       "      <td>-8.1</td>\n",
       "      <td>-9.6</td>\n",
       "      <td>89</td>\n",
       "      <td>4</td>\n",
       "      <td>2.4</td>\n",
       "      <td>101.09</td>\n",
       "      <td>Snow</td>\n",
       "    </tr>\n",
       "    <tr>\n",
       "      <th>8770</th>\n",
       "      <td>12/31/2012 10:00</td>\n",
       "      <td>-7.4</td>\n",
       "      <td>-8.9</td>\n",
       "      <td>89</td>\n",
       "      <td>4</td>\n",
       "      <td>6.4</td>\n",
       "      <td>101.05</td>\n",
       "      <td>Snow,Fog</td>\n",
       "    </tr>\n",
       "    <tr>\n",
       "      <th>8772</th>\n",
       "      <td>12/31/2012 12:00</td>\n",
       "      <td>-5.8</td>\n",
       "      <td>-7.5</td>\n",
       "      <td>88</td>\n",
       "      <td>4</td>\n",
       "      <td>12.9</td>\n",
       "      <td>100.78</td>\n",
       "      <td>Snow</td>\n",
       "    </tr>\n",
       "    <tr>\n",
       "      <th>8773</th>\n",
       "      <td>12/31/2012 13:00</td>\n",
       "      <td>-4.6</td>\n",
       "      <td>-6.6</td>\n",
       "      <td>86</td>\n",
       "      <td>4</td>\n",
       "      <td>12.9</td>\n",
       "      <td>100.63</td>\n",
       "      <td>Snow</td>\n",
       "    </tr>\n",
       "  </tbody>\n",
       "</table>\n",
       "<p>474 rows × 8 columns</p>\n",
       "</div>"
      ],
      "text/plain": [
       "             Date/Time  Temp_C  Dew Point Temp_C  Rel Hum_%  Wind Speed_km/h  \\\n",
       "0        1/1/2012 0:00    -1.8              -3.9         86                4   \n",
       "1        1/1/2012 1:00    -1.8              -3.7         87                4   \n",
       "96       1/5/2012 0:00    -8.8             -11.7         79                4   \n",
       "101      1/5/2012 5:00    -7.0              -9.5         82                4   \n",
       "146      1/7/2012 2:00    -8.1             -11.1         79                4   \n",
       "...                ...     ...               ...        ...              ...   \n",
       "8768   12/31/2012 8:00    -8.6             -10.3         87                4   \n",
       "8769   12/31/2012 9:00    -8.1              -9.6         89                4   \n",
       "8770  12/31/2012 10:00    -7.4              -8.9         89                4   \n",
       "8772  12/31/2012 12:00    -5.8              -7.5         88                4   \n",
       "8773  12/31/2012 13:00    -4.6              -6.6         86                4   \n",
       "\n",
       "      Visibility_km  Press_kPa       Weather  \n",
       "0               8.0     101.24           Fog  \n",
       "1               8.0     101.24           Fog  \n",
       "96              9.7     100.32          Snow  \n",
       "101             4.0     100.19          Snow  \n",
       "146            19.3     100.15        Cloudy  \n",
       "...             ...        ...           ...  \n",
       "8768            3.2     101.14  Snow Showers  \n",
       "8769            2.4     101.09          Snow  \n",
       "8770            6.4     101.05      Snow,Fog  \n",
       "8772           12.9     100.78          Snow  \n",
       "8773           12.9     100.63          Snow  \n",
       "\n",
       "[474 rows x 8 columns]"
      ]
     },
     "execution_count": 41,
     "metadata": {},
     "output_type": "execute_result"
    }
   ],
   "source": [
    "wind_speed_values = data[\"Wind Speed_km/h\"].value_counts()\n",
    "print(f'Number of elements when Wind speed is 4 km/h is: {wind_speed_values[4]}')\n",
    "\n",
    "# Another solutions:\n",
    "# data[data[\"Wind Speed_km/h\"] == 4]"
   ]
  },
  {
   "cell_type": "markdown",
   "metadata": {},
   "source": [
    "### **Q4) Find out all the Null Values in the data.**"
   ]
  },
  {
   "cell_type": "code",
   "execution_count": 46,
   "metadata": {},
   "outputs": [
    {
     "data": {
      "text/plain": [
       "Date/Time           0\n",
       "Temp_C              0\n",
       "Dew Point Temp_C    0\n",
       "Rel Hum_%           0\n",
       "Wind Speed_km/h     0\n",
       "Visibility_km       0\n",
       "Press_kPa           0\n",
       "Weather             0\n",
       "dtype: int64"
      ]
     },
     "execution_count": 46,
     "metadata": {},
     "output_type": "execute_result"
    }
   ],
   "source": [
    "# To show sum of null data:\n",
    "data.isnull().sum()\n",
    "\n",
    "# To show sum of not null data:\n",
    "# data.notnull().sum()"
   ]
  },
  {
   "cell_type": "markdown",
   "metadata": {},
   "source": [
    "### **Q5) Rename the column name \"Weather\" of the dataframe to \"Weather Conditions.**"
   ]
  },
  {
   "cell_type": "code",
   "execution_count": 50,
   "metadata": {},
   "outputs": [],
   "source": [
    "data = data.rename(columns={\"Weather\": \"Weather Condition\"})\n",
    "\n",
    "# or\n",
    "\n",
    "data.rename(columns={\"Weather\": \"Weather Condition\"}, inplace=True)"
   ]
  },
  {
   "cell_type": "markdown",
   "metadata": {},
   "source": [
    "### **Q6) What is the mean \"Visibility.**"
   ]
  },
  {
   "cell_type": "code",
   "execution_count": 51,
   "metadata": {},
   "outputs": [
    {
     "data": {
      "text/plain": [
       "27.664446721311478"
      ]
     },
     "execution_count": 51,
     "metadata": {},
     "output_type": "execute_result"
    }
   ],
   "source": [
    "data.Visibility_km.mean()"
   ]
  },
  {
   "cell_type": "markdown",
   "metadata": {},
   "source": [
    "### **Q7) What is the Standard Deviation of \"Preassure\" in this data.**"
   ]
  },
  {
   "cell_type": "code",
   "execution_count": 52,
   "metadata": {},
   "outputs": [
    {
     "data": {
      "text/plain": [
       "0.8440047459486483"
      ]
     },
     "execution_count": 52,
     "metadata": {},
     "output_type": "execute_result"
    }
   ],
   "source": [
    "data.Press_kPa.std()"
   ]
  },
  {
   "cell_type": "markdown",
   "metadata": {},
   "source": [
    "### **Q8) What is the Variance of \"Relative Humidity\" in this data.**"
   ]
  },
  {
   "cell_type": "code",
   "execution_count": 53,
   "metadata": {},
   "outputs": [
    {
     "data": {
      "text/plain": [
       "286.24855019850196"
      ]
     },
     "execution_count": 53,
     "metadata": {},
     "output_type": "execute_result"
    }
   ],
   "source": [
    "data[\"Rel Hum_%\"].var()"
   ]
  },
  {
   "cell_type": "markdown",
   "metadata": {},
   "source": [
    "### **Q9) Find all instances when \"Snow\" was recorded.**"
   ]
  },
  {
   "cell_type": "code",
   "execution_count": 71,
   "metadata": {},
   "outputs": [
    {
     "name": "stdout",
     "output_type": "stream",
     "text": [
      "Using value_counts: 390\n",
      "Using Filtering: 390\n",
      "Using str.contains: 583\n",
      "             Date/Time  Temp_C  Dew Point Temp_C  Rel Hum_%  Wind Speed_km/h  Visibility_km  Press_kPa Weather Condition\n",
      "8774  12/31/2012 14:00    -3.4              -5.7         84                6           11.3     100.57              Snow\n",
      "8775  12/31/2012 15:00    -2.3              -4.6         84                9            9.7     100.47              Snow\n",
      "8776  12/31/2012 16:00    -1.4              -4.0         82               13           12.9     100.40              Snow\n",
      "8777  12/31/2012 17:00    -1.1              -3.3         85               19            9.7     100.30              Snow\n",
      "8778  12/31/2012 18:00    -1.3              -3.1         88               17            9.7     100.19              Snow\n",
      "8779  12/31/2012 19:00     0.1              -2.7         81               30            9.7     100.13              Snow\n",
      "8780  12/31/2012 20:00     0.2              -2.4         83               24            9.7     100.03              Snow\n",
      "8781  12/31/2012 21:00    -0.5              -1.5         93               28            4.8      99.95              Snow\n",
      "8782  12/31/2012 22:00    -0.2              -1.8         89               28            9.7      99.91              Snow\n",
      "8783  12/31/2012 23:00     0.0              -2.1         86               30           11.3      99.89              Snow\n"
     ]
    }
   ],
   "source": [
    "# Thera are 3 ways to answer this: value_count(), Filtering, str.contains\n",
    "# value_counts()\n",
    "sol1 = data[\"Weather Condition\"].value_counts()[\"Snow\"]\n",
    "\n",
    "# Filtering\n",
    "sol2 = data[data[\"Weather Condition\"] == 'Snow']\n",
    "\n",
    "# str.contains - this allows to check if word 'Snow' is also in other records \n",
    "sol3 = data[data[\"Weather Condition\"].str.contains(\"Snow\")]\n",
    "\n",
    "\n",
    "print(f'Using value_counts: {sol1}')\n",
    "print(f'Using Filtering: {len(sol2)}')\n",
    "print(f'Using str.contains: {len(sol3)}')\n",
    "print(sol3.tail(10))\n",
    "\n"
   ]
  },
  {
   "cell_type": "markdown",
   "metadata": {},
   "source": [
    "### **Q10) Find all instances when \"Wind Speed is above 24\" and \"Visibility\" is 25.**"
   ]
  },
  {
   "cell_type": "code",
   "execution_count": 79,
   "metadata": {},
   "outputs": [
    {
     "data": {
      "text/html": [
       "<div>\n",
       "<style scoped>\n",
       "    .dataframe tbody tr th:only-of-type {\n",
       "        vertical-align: middle;\n",
       "    }\n",
       "\n",
       "    .dataframe tbody tr th {\n",
       "        vertical-align: top;\n",
       "    }\n",
       "\n",
       "    .dataframe thead th {\n",
       "        text-align: right;\n",
       "    }\n",
       "</style>\n",
       "<table border=\"1\" class=\"dataframe\">\n",
       "  <thead>\n",
       "    <tr style=\"text-align: right;\">\n",
       "      <th></th>\n",
       "      <th>Date/Time</th>\n",
       "      <th>Temp_C</th>\n",
       "      <th>Dew Point Temp_C</th>\n",
       "      <th>Rel Hum_%</th>\n",
       "      <th>Wind Speed_km/h</th>\n",
       "      <th>Visibility_km</th>\n",
       "      <th>Press_kPa</th>\n",
       "      <th>Weather Condition</th>\n",
       "    </tr>\n",
       "  </thead>\n",
       "  <tbody>\n",
       "    <tr>\n",
       "      <th>23</th>\n",
       "      <td>1/1/2012 23:00</td>\n",
       "      <td>5.3</td>\n",
       "      <td>2.0</td>\n",
       "      <td>79</td>\n",
       "      <td>30</td>\n",
       "      <td>25.0</td>\n",
       "      <td>99.31</td>\n",
       "      <td>Cloudy</td>\n",
       "    </tr>\n",
       "    <tr>\n",
       "      <th>24</th>\n",
       "      <td>1/2/2012 0:00</td>\n",
       "      <td>5.2</td>\n",
       "      <td>1.5</td>\n",
       "      <td>77</td>\n",
       "      <td>35</td>\n",
       "      <td>25.0</td>\n",
       "      <td>99.26</td>\n",
       "      <td>Rain Showers</td>\n",
       "    </tr>\n",
       "    <tr>\n",
       "      <th>25</th>\n",
       "      <td>1/2/2012 1:00</td>\n",
       "      <td>4.6</td>\n",
       "      <td>0.0</td>\n",
       "      <td>72</td>\n",
       "      <td>39</td>\n",
       "      <td>25.0</td>\n",
       "      <td>99.26</td>\n",
       "      <td>Cloudy</td>\n",
       "    </tr>\n",
       "    <tr>\n",
       "      <th>26</th>\n",
       "      <td>1/2/2012 2:00</td>\n",
       "      <td>3.9</td>\n",
       "      <td>-0.9</td>\n",
       "      <td>71</td>\n",
       "      <td>32</td>\n",
       "      <td>25.0</td>\n",
       "      <td>99.26</td>\n",
       "      <td>Mostly Cloudy</td>\n",
       "    </tr>\n",
       "    <tr>\n",
       "      <th>27</th>\n",
       "      <td>1/2/2012 3:00</td>\n",
       "      <td>3.7</td>\n",
       "      <td>-1.5</td>\n",
       "      <td>69</td>\n",
       "      <td>33</td>\n",
       "      <td>25.0</td>\n",
       "      <td>99.30</td>\n",
       "      <td>Mostly Cloudy</td>\n",
       "    </tr>\n",
       "    <tr>\n",
       "      <th>...</th>\n",
       "      <td>...</td>\n",
       "      <td>...</td>\n",
       "      <td>...</td>\n",
       "      <td>...</td>\n",
       "      <td>...</td>\n",
       "      <td>...</td>\n",
       "      <td>...</td>\n",
       "      <td>...</td>\n",
       "    </tr>\n",
       "    <tr>\n",
       "      <th>8705</th>\n",
       "      <td>12/28/2012 17:00</td>\n",
       "      <td>-8.6</td>\n",
       "      <td>-12.0</td>\n",
       "      <td>76</td>\n",
       "      <td>26</td>\n",
       "      <td>25.0</td>\n",
       "      <td>101.34</td>\n",
       "      <td>Mainly Clear</td>\n",
       "    </tr>\n",
       "    <tr>\n",
       "      <th>8753</th>\n",
       "      <td>12/30/2012 17:00</td>\n",
       "      <td>-12.1</td>\n",
       "      <td>-15.8</td>\n",
       "      <td>74</td>\n",
       "      <td>28</td>\n",
       "      <td>25.0</td>\n",
       "      <td>101.26</td>\n",
       "      <td>Mainly Clear</td>\n",
       "    </tr>\n",
       "    <tr>\n",
       "      <th>8755</th>\n",
       "      <td>12/30/2012 19:00</td>\n",
       "      <td>-13.4</td>\n",
       "      <td>-16.5</td>\n",
       "      <td>77</td>\n",
       "      <td>26</td>\n",
       "      <td>25.0</td>\n",
       "      <td>101.47</td>\n",
       "      <td>Mainly Clear</td>\n",
       "    </tr>\n",
       "    <tr>\n",
       "      <th>8759</th>\n",
       "      <td>12/30/2012 23:00</td>\n",
       "      <td>-12.1</td>\n",
       "      <td>-15.1</td>\n",
       "      <td>78</td>\n",
       "      <td>28</td>\n",
       "      <td>25.0</td>\n",
       "      <td>101.52</td>\n",
       "      <td>Mostly Cloudy</td>\n",
       "    </tr>\n",
       "    <tr>\n",
       "      <th>8760</th>\n",
       "      <td>12/31/2012 0:00</td>\n",
       "      <td>-11.1</td>\n",
       "      <td>-14.4</td>\n",
       "      <td>77</td>\n",
       "      <td>26</td>\n",
       "      <td>25.0</td>\n",
       "      <td>101.51</td>\n",
       "      <td>Cloudy</td>\n",
       "    </tr>\n",
       "  </tbody>\n",
       "</table>\n",
       "<p>308 rows × 8 columns</p>\n",
       "</div>"
      ],
      "text/plain": [
       "             Date/Time  Temp_C  Dew Point Temp_C  Rel Hum_%  Wind Speed_km/h  Visibility_km  Press_kPa Weather Condition\n",
       "23      1/1/2012 23:00     5.3               2.0         79               30           25.0      99.31            Cloudy\n",
       "24       1/2/2012 0:00     5.2               1.5         77               35           25.0      99.26      Rain Showers\n",
       "25       1/2/2012 1:00     4.6               0.0         72               39           25.0      99.26            Cloudy\n",
       "26       1/2/2012 2:00     3.9              -0.9         71               32           25.0      99.26     Mostly Cloudy\n",
       "27       1/2/2012 3:00     3.7              -1.5         69               33           25.0      99.30     Mostly Cloudy\n",
       "...                ...     ...               ...        ...              ...            ...        ...               ...\n",
       "8705  12/28/2012 17:00    -8.6             -12.0         76               26           25.0     101.34      Mainly Clear\n",
       "8753  12/30/2012 17:00   -12.1             -15.8         74               28           25.0     101.26      Mainly Clear\n",
       "8755  12/30/2012 19:00   -13.4             -16.5         77               26           25.0     101.47      Mainly Clear\n",
       "8759  12/30/2012 23:00   -12.1             -15.1         78               28           25.0     101.52     Mostly Cloudy\n",
       "8760   12/31/2012 0:00   -11.1             -14.4         77               26           25.0     101.51            Cloudy\n",
       "\n",
       "[308 rows x 8 columns]"
      ]
     },
     "execution_count": 79,
     "metadata": {},
     "output_type": "execute_result"
    }
   ],
   "source": [
    "data[(data[\"Wind Speed_km/h\"] > 24) & (data[\"Visibility_km\"] == 25)]"
   ]
  },
  {
   "cell_type": "markdown",
   "metadata": {},
   "source": [
    "### **Q11) What is the Mean value of each volumn against each \"Weather Condition\"?**"
   ]
  },
  {
   "cell_type": "code",
   "execution_count": 107,
   "metadata": {},
   "outputs": [
    {
     "name": "stdout",
     "output_type": "stream",
     "text": [
      "                                            Temp_C  Dew Point Temp_C  Rel Hum_%  Wind Speed_km/h  Visibility_km   Press_kPa\n",
      "Weather Condition                                                                                                          \n",
      "Clear                                     6.825716          0.089367  64.497738        10.557315      30.153243  101.587443\n",
      "Cloudy                                    7.970544          2.375810  69.592593        16.127315      26.625752  100.911441\n",
      "Drizzle                                   7.353659          5.504878  88.243902        16.097561      17.931707  100.435366\n",
      "Drizzle,Fog                               8.067500          7.033750  93.275000        11.862500       5.257500  100.786625\n",
      "Drizzle,Ice Pellets,Fog                   0.400000         -0.700000  92.000000        20.000000       4.000000  100.790000\n",
      "Drizzle,Snow                              1.050000          0.150000  93.500000        14.000000      10.500000  100.890000\n",
      "Drizzle,Snow,Fog                          0.693333          0.120000  95.866667        15.533333       5.513333   99.281333\n",
      "Fog                                       4.303333          3.159333  92.286667         7.946667       6.248000  101.184067\n",
      "Freezing Drizzle                         -5.657143         -8.000000  83.571429        16.571429       9.200000  100.202857\n",
      "Freezing Drizzle,Fog                     -2.533333         -4.183333  88.500000        17.000000       5.266667  100.441667\n",
      "Freezing Drizzle,Haze                    -5.433333         -8.000000  82.000000        10.333333       2.666667  100.316667\n",
      "Freezing Drizzle,Snow                    -5.109091         -7.072727  86.090909        16.272727       5.872727  100.520909\n",
      "Freezing Fog                             -7.575000         -9.250000  87.750000         4.750000       0.650000  102.320000\n",
      "Freezing Rain                            -3.885714         -6.078571  84.642857        19.214286       8.242857   99.647143\n",
      "Freezing Rain,Fog                        -2.225000         -3.750000  89.500000        15.500000       7.550000   99.945000\n",
      "Freezing Rain,Haze                       -4.900000         -7.450000  82.500000         7.500000       2.400000  100.375000\n",
      "Freezing Rain,Ice Pellets,Fog            -2.600000         -3.700000  92.000000        28.000000       8.000000  100.950000\n",
      "Freezing Rain,Snow Grains                -5.000000         -7.300000  84.000000        32.000000       4.800000   98.560000\n",
      "Haze                                     -0.200000         -2.975000  81.625000        10.437500       7.831250  101.482500\n",
      "Mainly Clear                             12.558927          4.581671  60.667142        14.144824      34.264862  101.248832\n",
      "Moderate Rain,Fog                         1.700000          0.800000  94.000000        17.000000       6.400000   99.980000\n",
      "Moderate Snow                            -5.525000         -7.250000  87.750000        33.750000       0.750000  100.275000\n",
      "Moderate Snow,Blowing Snow               -5.450000         -6.500000  92.500000        40.000000       0.600000  100.570000\n",
      "Mostly Cloudy                            10.574287          3.131174  62.102465        15.813920      31.253842  101.025288\n",
      "Rain                                      9.786275          7.042810  83.624183        19.254902      18.856536  100.233333\n",
      "Rain Showers                             13.722340          9.187766  75.159574        17.132979      22.816489  100.404043\n",
      "Rain Showers,Fog                         12.800000         12.100000  96.000000        13.000000       6.400000   99.830000\n",
      "Rain Showers,Snow Showers                 2.150000         -1.500000  76.500000        22.500000      21.700000  101.100000\n",
      "Rain,Fog                                  8.273276          7.219828  93.189655        14.793103       6.873276  100.500862\n",
      "Rain,Haze                                 4.633333          2.066667  83.333333        11.666667       6.700000  100.540000\n",
      "Rain,Ice Pellets                          0.600000         -0.600000  92.000000        24.000000       9.700000  100.120000\n",
      "Rain,Snow                                 1.055556         -0.566667  89.000000        28.388889      11.672222   99.951111\n",
      "Rain,Snow Grains                          1.900000         -2.100000  75.000000        26.000000      25.000000  100.600000\n",
      "Rain,Snow,Fog                             0.800000          0.300000  96.000000         9.000000       6.400000  100.730000\n",
      "Rain,Snow,Ice Pellets                     1.100000         -0.175000  91.500000        23.250000       6.000000  100.105000\n",
      "Snow                                     -4.524103         -7.623333  79.307692        20.038462      11.171795  100.536103\n",
      "Snow Pellets                              0.700000         -6.400000  59.000000        35.000000       2.400000   99.700000\n",
      "Snow Showers                             -3.506667         -7.866667  72.350000        19.233333      20.158333  100.963500\n",
      "Snow Showers,Fog                        -10.675000        -11.900000  90.750000        13.750000       7.025000  101.292500\n",
      "Snow,Blowing Snow                        -5.410526         -7.621053  84.473684        34.842105       4.105263   99.704737\n",
      "Snow,Fog                                 -5.075676         -6.364865  90.675676        17.324324       4.537838  100.688649\n",
      "Snow,Haze                                -4.020000         -6.860000  80.600000         5.000000       4.640000  100.782000\n",
      "Snow,Ice Pellets                         -1.883333         -3.666667  87.666667        23.833333       7.416667  100.548333\n",
      "Thunderstorms                            24.150000         19.750000  77.000000         7.500000      24.550000  100.230000\n",
      "Thunderstorms,Heavy Rain Showers         10.900000          9.000000  88.000000         9.000000       2.400000  100.260000\n",
      "Thunderstorms,Moderate Rain Showers,Fog  19.600000         18.500000  93.000000        15.000000       3.200000  100.010000\n",
      "Thunderstorms,Rain                       20.433333         18.533333  89.000000        15.666667      19.833333  100.420000\n",
      "Thunderstorms,Rain Showers               20.037500         17.618750  86.375000        18.312500      15.893750  100.233750\n",
      "Thunderstorms,Rain Showers,Fog           21.600000         18.700000  84.000000        19.666667       9.700000  100.063333\n",
      "Thunderstorms,Rain,Fog                   20.600000         18.600000  88.000000        19.000000       4.800000  100.080000\n"
     ]
    }
   ],
   "source": [
    "# column_names = [\"Temp_C\", \"Dew Point Temp_C\", \"Rel Hum_%\", \"Wind Speed_km/h\", \"Visibility_km\", \"Press_kPa\"]\n",
    "numeric_columns = data.select_dtypes([float, int])\n",
    "column_names = numeric_columns.columns.tolist()\n",
    "weather_mean = data.groupby(\"Weather Condition\")[column_names].mean()\n",
    "print(weather_mean)\n"
   ]
  },
  {
   "cell_type": "markdown",
   "metadata": {},
   "source": [
    "### **Q12) What is the Minimum & Maximum value of each column against each 'Weather Conditions.**"
   ]
  },
  {
   "cell_type": "code",
   "execution_count": 111,
   "metadata": {},
   "outputs": [
    {
     "name": "stdout",
     "output_type": "stream",
     "text": [
      "                                         Temp_C  Dew Point Temp_C  Rel Hum_%  Wind Speed_km/h  Visibility_km  Press_kPa\n",
      "Weather Condition                                                                                                      \n",
      "Clear                                     -23.3             -28.5         20                0           11.3      99.52\n",
      "Cloudy                                    -21.4             -26.8         18                0           11.3      98.39\n",
      "Drizzle                                     1.1              -0.2         74                0            6.4      97.84\n",
      "Drizzle,Fog                                 0.0              -1.6         85                0            1.0      98.65\n",
      "Drizzle,Ice Pellets,Fog                     0.4              -0.7         92               20            4.0     100.79\n",
      "Drizzle,Snow                                0.9               0.1         92                9            9.7     100.63\n",
      "Drizzle,Snow,Fog                            0.3              -0.1         92                7            2.4      97.79\n",
      "Fog                                       -16.0             -17.2         80                0            0.2      98.31\n",
      "Freezing Drizzle                           -9.0             -12.2         78                6            4.8      98.44\n",
      "Freezing Drizzle,Fog                       -6.4              -9.0         82                6            3.6      98.74\n",
      "Freezing Drizzle,Haze                      -5.8              -8.3         81                9            2.0     100.28\n",
      "Freezing Drizzle,Snow                      -8.3             -10.4         79                6            2.4      99.19\n",
      "Freezing Fog                              -19.0             -22.9         71                0            0.2     101.97\n",
      "Freezing Rain                              -6.5              -9.0         81                7            2.8      98.22\n",
      "Freezing Rain,Fog                          -6.1              -8.7         82                7            2.8      98.32\n",
      "Freezing Rain,Haze                         -4.9              -7.5         82                6            2.0     100.34\n",
      "Freezing Rain,Ice Pellets,Fog              -2.6              -3.7         92               28            8.0     100.95\n",
      "Freezing Rain,Snow Grains                  -5.0              -7.3         84               32            4.8      98.56\n",
      "Haze                                      -11.5             -16.0         68                0            4.8     100.35\n",
      "Mainly Clear                              -22.8             -28.0         20                0           12.9      98.67\n",
      "Moderate Rain,Fog                           1.7               0.8         94               17            6.4      99.98\n",
      "Moderate Snow                              -6.3              -7.6         83               26            0.6      99.88\n",
      "Moderate Snow,Blowing Snow                 -5.5              -6.6         92               39            0.6     100.50\n",
      "Mostly Cloudy                             -23.2             -28.5         18                0           11.3      98.36\n",
      "Rain                                        0.3              -5.7         40                0            4.0      97.52\n",
      "Rain Showers                                1.6              -7.2         37                0            6.4      98.51\n",
      "Rain Showers,Fog                           12.8              12.1         96               13            6.4      99.83\n",
      "Rain Showers,Snow Showers                   2.1              -1.8         75               17           19.3     101.09\n",
      "Rain,Fog                                    0.0              -1.2         83                0            2.0      98.61\n",
      "Rain,Haze                                   4.0               1.0         81                7            4.0     100.50\n",
      "Rain,Ice Pellets                            0.6              -0.6         92               24            9.7     100.12\n",
      "Rain,Snow                                   0.6              -1.7         81               13            2.4      98.18\n",
      "Rain,Snow Grains                            1.9              -2.1         75               26           25.0     100.60\n",
      "Rain,Snow,Fog                               0.8               0.3         96                9            6.4     100.73\n",
      "Rain,Snow,Ice Pellets                       0.9              -0.7         88               17            4.8      99.85\n",
      "Snow                                      -16.7             -24.6         41                0            1.0      97.75\n",
      "Snow Pellets                                0.7              -6.4         59               35            2.4      99.70\n",
      "Snow Showers                              -13.3             -19.3         52                0            2.4      99.49\n",
      "Snow Showers,Fog                          -11.3             -12.7         89                7            4.0     100.63\n",
      "Snow,Blowing Snow                         -12.0             -16.2         70               24            0.6      98.11\n",
      "Snow,Fog                                  -10.1             -12.0         77                4            1.2      99.38\n",
      "Snow,Haze                                  -4.3              -7.2         80                0            4.0     100.61\n",
      "Snow,Ice Pellets                           -4.3              -5.9         76               19            2.8      99.40\n",
      "Thunderstorms                              21.6              19.4         67                0           24.1      99.84\n",
      "Thunderstorms,Heavy Rain Showers           10.9               9.0         88                9            2.4     100.26\n",
      "Thunderstorms,Moderate Rain Showers,Fog    19.6              18.5         93               15            3.2     100.01\n",
      "Thunderstorms,Rain                         19.4              18.2         83                4           16.1     100.19\n",
      "Thunderstorms,Rain Showers                 11.0               7.0         68                7            6.4      99.65\n",
      "Thunderstorms,Rain Showers,Fog             19.5              16.1         80                7            9.7      99.71\n",
      "Thunderstorms,Rain,Fog                     20.6              18.6         88               19            4.8     100.08\n",
      "                                         Temp_C  Dew Point Temp_C  Rel Hum_%  Wind Speed_km/h  Visibility_km  Press_kPa\n",
      "Weather Condition                                                                                                      \n",
      "Clear                                      32.8              20.4         99               33           48.3     103.63\n",
      "Cloudy                                     30.5              22.6         99               54           48.3     103.65\n",
      "Drizzle                                    18.8              17.7         96               30           25.0     101.56\n",
      "Drizzle,Fog                                19.9              19.1        100               28            9.7     102.07\n",
      "Drizzle,Ice Pellets,Fog                     0.4              -0.7         92               20            4.0     100.79\n",
      "Drizzle,Snow                                1.2               0.2         95               19           11.3     101.15\n",
      "Drizzle,Snow,Fog                            1.1               0.6         98               32            9.7     100.15\n",
      "Fog                                        20.8              19.6        100               22            9.7     103.04\n",
      "Freezing Drizzle                           -2.3              -3.3         93               26           12.9     101.02\n",
      "Freezing Drizzle,Fog                       -0.3              -2.3         94               33            8.0     101.27\n",
      "Freezing Drizzle,Haze                      -5.0              -7.7         83               11            4.0     100.36\n",
      "Freezing Drizzle,Snow                      -3.3              -4.6         94               24           12.9     101.18\n",
      "Freezing Fog                               -0.1              -0.3         99                9            0.8     102.85\n",
      "Freezing Rain                               0.3              -1.7         92               28           16.1     101.00\n",
      "Freezing Rain,Fog                           0.1              -0.9         93               26            9.7     101.01\n",
      "Freezing Rain,Haze                         -4.9              -7.4         83                9            2.8     100.41\n",
      "Freezing Rain,Ice Pellets,Fog              -2.6              -3.7         92               28            8.0     100.95\n",
      "Freezing Rain,Snow Grains                  -5.0              -7.3         84               32            4.8      98.56\n",
      "Haze                                       14.1              11.1         86               17            9.7     102.97\n",
      "Mainly Clear                               33.0              21.2         99               63           48.3     103.59\n",
      "Moderate Rain,Fog                           1.7               0.8         94               17            6.4      99.98\n",
      "Moderate Snow                              -4.9              -6.7         93               39            0.8     100.67\n",
      "Moderate Snow,Blowing Snow                 -5.4              -6.4         93               41            0.6     100.64\n",
      "Mostly Cloudy                              32.4              24.4        100               83           48.3     103.65\n",
      "Rain                                       22.8              20.4         99               52           48.3     102.26\n",
      "Rain Showers                               26.4              23.0         97               41           48.3     102.31\n",
      "Rain Showers,Fog                           12.8              12.1         96               13            6.4      99.83\n",
      "Rain Showers,Snow Showers                   2.2              -1.2         78               28           24.1     101.11\n",
      "Rain,Fog                                   21.7              19.5        100               46            9.7     101.77\n",
      "Rain,Haze                                   5.5               2.9         86               17            9.7     100.61\n",
      "Rain,Ice Pellets                            0.6              -0.6         92               24            9.7     100.12\n",
      "Rain,Snow                                   1.7               0.5         94               52           25.0     101.07\n",
      "Rain,Snow Grains                            1.9              -2.1         75               26           25.0     100.60\n",
      "Rain,Snow,Fog                               0.8               0.3         96                9            6.4     100.73\n",
      "Rain,Snow,Ice Pellets                       1.3               0.1         94               28            6.4     100.47\n",
      "Snow                                        3.7               0.3         96               57           25.0     102.73\n",
      "Snow Pellets                                0.7              -6.4         59               35            2.4      99.70\n",
      "Snow Showers                                2.9              -0.7         94               37           48.3     102.50\n",
      "Snow Showers,Fog                          -10.0             -11.1         92               22            9.7     102.52\n",
      "Snow,Blowing Snow                          -1.4              -2.9         91               48            9.7     100.62\n",
      "Snow,Fog                                    1.1               0.8         99               35            9.7     102.07\n",
      "Snow,Haze                                  -3.6              -6.4         81               15            6.4     100.99\n",
      "Snow,Ice Pellets                            0.8              -1.7         92               33           11.3     100.96\n",
      "Thunderstorms                              26.7              20.1         87               15           25.0     100.62\n",
      "Thunderstorms,Heavy Rain Showers           10.9               9.0         88                9            2.4     100.26\n",
      "Thunderstorms,Moderate Rain Showers,Fog    19.6              18.5         93               15            3.2     100.01\n",
      "Thunderstorms,Rain                         21.3              19.1         93               30           24.1     100.83\n",
      "Thunderstorms,Rain Showers                 25.5              23.1         98               32           25.0     101.06\n",
      "Thunderstorms,Rain Showers,Fog             22.9              21.3         91               35            9.7     100.64\n",
      "Thunderstorms,Rain,Fog                     20.6              18.6         88               19            4.8     100.08\n"
     ]
    }
   ],
   "source": [
    "numeric_columns = data.select_dtypes([float, int])\n",
    "column_names = numeric_columns.columns.tolist()\n",
    "weather_min = data.groupby(\"Weather Condition\")[column_names].min()\n",
    "weather_max = data.groupby(\"Weather Condition\")[column_names].max()\n",
    "\n",
    "print(weather_min)\n",
    "print(weather_max)\n"
   ]
  },
  {
   "cell_type": "markdown",
   "metadata": {},
   "source": [
    "### **Q13) Show all the Records where \"Wealther Conditions\" is \"Fog\".**\n"
   ]
  },
  {
   "cell_type": "code",
   "execution_count": 112,
   "metadata": {},
   "outputs": [
    {
     "data": {
      "text/html": [
       "<div>\n",
       "<style scoped>\n",
       "    .dataframe tbody tr th:only-of-type {\n",
       "        vertical-align: middle;\n",
       "    }\n",
       "\n",
       "    .dataframe tbody tr th {\n",
       "        vertical-align: top;\n",
       "    }\n",
       "\n",
       "    .dataframe thead th {\n",
       "        text-align: right;\n",
       "    }\n",
       "</style>\n",
       "<table border=\"1\" class=\"dataframe\">\n",
       "  <thead>\n",
       "    <tr style=\"text-align: right;\">\n",
       "      <th></th>\n",
       "      <th>Date/Time</th>\n",
       "      <th>Temp_C</th>\n",
       "      <th>Dew Point Temp_C</th>\n",
       "      <th>Rel Hum_%</th>\n",
       "      <th>Wind Speed_km/h</th>\n",
       "      <th>Visibility_km</th>\n",
       "      <th>Press_kPa</th>\n",
       "      <th>Weather Condition</th>\n",
       "    </tr>\n",
       "  </thead>\n",
       "  <tbody>\n",
       "    <tr>\n",
       "      <th>0</th>\n",
       "      <td>1/1/2012 0:00</td>\n",
       "      <td>-1.8</td>\n",
       "      <td>-3.9</td>\n",
       "      <td>86</td>\n",
       "      <td>4</td>\n",
       "      <td>8.0</td>\n",
       "      <td>101.24</td>\n",
       "      <td>Fog</td>\n",
       "    </tr>\n",
       "    <tr>\n",
       "      <th>1</th>\n",
       "      <td>1/1/2012 1:00</td>\n",
       "      <td>-1.8</td>\n",
       "      <td>-3.7</td>\n",
       "      <td>87</td>\n",
       "      <td>4</td>\n",
       "      <td>8.0</td>\n",
       "      <td>101.24</td>\n",
       "      <td>Fog</td>\n",
       "    </tr>\n",
       "    <tr>\n",
       "      <th>4</th>\n",
       "      <td>1/1/2012 4:00</td>\n",
       "      <td>-1.5</td>\n",
       "      <td>-3.3</td>\n",
       "      <td>88</td>\n",
       "      <td>7</td>\n",
       "      <td>4.8</td>\n",
       "      <td>101.23</td>\n",
       "      <td>Fog</td>\n",
       "    </tr>\n",
       "    <tr>\n",
       "      <th>5</th>\n",
       "      <td>1/1/2012 5:00</td>\n",
       "      <td>-1.4</td>\n",
       "      <td>-3.3</td>\n",
       "      <td>87</td>\n",
       "      <td>9</td>\n",
       "      <td>6.4</td>\n",
       "      <td>101.27</td>\n",
       "      <td>Fog</td>\n",
       "    </tr>\n",
       "    <tr>\n",
       "      <th>6</th>\n",
       "      <td>1/1/2012 6:00</td>\n",
       "      <td>-1.5</td>\n",
       "      <td>-3.1</td>\n",
       "      <td>89</td>\n",
       "      <td>7</td>\n",
       "      <td>6.4</td>\n",
       "      <td>101.29</td>\n",
       "      <td>Fog</td>\n",
       "    </tr>\n",
       "    <tr>\n",
       "      <th>...</th>\n",
       "      <td>...</td>\n",
       "      <td>...</td>\n",
       "      <td>...</td>\n",
       "      <td>...</td>\n",
       "      <td>...</td>\n",
       "      <td>...</td>\n",
       "      <td>...</td>\n",
       "      <td>...</td>\n",
       "    </tr>\n",
       "    <tr>\n",
       "      <th>8716</th>\n",
       "      <td>12/29/2012 4:00</td>\n",
       "      <td>-16.0</td>\n",
       "      <td>-17.2</td>\n",
       "      <td>90</td>\n",
       "      <td>6</td>\n",
       "      <td>9.7</td>\n",
       "      <td>101.25</td>\n",
       "      <td>Fog</td>\n",
       "    </tr>\n",
       "    <tr>\n",
       "      <th>8717</th>\n",
       "      <td>12/29/2012 5:00</td>\n",
       "      <td>-14.8</td>\n",
       "      <td>-15.9</td>\n",
       "      <td>91</td>\n",
       "      <td>4</td>\n",
       "      <td>6.4</td>\n",
       "      <td>101.25</td>\n",
       "      <td>Fog</td>\n",
       "    </tr>\n",
       "    <tr>\n",
       "      <th>8718</th>\n",
       "      <td>12/29/2012 6:00</td>\n",
       "      <td>-13.8</td>\n",
       "      <td>-15.3</td>\n",
       "      <td>88</td>\n",
       "      <td>4</td>\n",
       "      <td>9.7</td>\n",
       "      <td>101.25</td>\n",
       "      <td>Fog</td>\n",
       "    </tr>\n",
       "    <tr>\n",
       "      <th>8719</th>\n",
       "      <td>12/29/2012 7:00</td>\n",
       "      <td>-14.8</td>\n",
       "      <td>-16.4</td>\n",
       "      <td>88</td>\n",
       "      <td>7</td>\n",
       "      <td>8.0</td>\n",
       "      <td>101.22</td>\n",
       "      <td>Fog</td>\n",
       "    </tr>\n",
       "    <tr>\n",
       "      <th>8722</th>\n",
       "      <td>12/29/2012 10:00</td>\n",
       "      <td>-12.0</td>\n",
       "      <td>-13.3</td>\n",
       "      <td>90</td>\n",
       "      <td>7</td>\n",
       "      <td>6.4</td>\n",
       "      <td>101.15</td>\n",
       "      <td>Fog</td>\n",
       "    </tr>\n",
       "  </tbody>\n",
       "</table>\n",
       "<p>150 rows × 8 columns</p>\n",
       "</div>"
      ],
      "text/plain": [
       "             Date/Time  Temp_C  Dew Point Temp_C  Rel Hum_%  Wind Speed_km/h  Visibility_km  Press_kPa Weather Condition\n",
       "0        1/1/2012 0:00    -1.8              -3.9         86                4            8.0     101.24               Fog\n",
       "1        1/1/2012 1:00    -1.8              -3.7         87                4            8.0     101.24               Fog\n",
       "4        1/1/2012 4:00    -1.5              -3.3         88                7            4.8     101.23               Fog\n",
       "5        1/1/2012 5:00    -1.4              -3.3         87                9            6.4     101.27               Fog\n",
       "6        1/1/2012 6:00    -1.5              -3.1         89                7            6.4     101.29               Fog\n",
       "...                ...     ...               ...        ...              ...            ...        ...               ...\n",
       "8716   12/29/2012 4:00   -16.0             -17.2         90                6            9.7     101.25               Fog\n",
       "8717   12/29/2012 5:00   -14.8             -15.9         91                4            6.4     101.25               Fog\n",
       "8718   12/29/2012 6:00   -13.8             -15.3         88                4            9.7     101.25               Fog\n",
       "8719   12/29/2012 7:00   -14.8             -16.4         88                7            8.0     101.22               Fog\n",
       "8722  12/29/2012 10:00   -12.0             -13.3         90                7            6.4     101.15               Fog\n",
       "\n",
       "[150 rows x 8 columns]"
      ]
     },
     "execution_count": 112,
     "metadata": {},
     "output_type": "execute_result"
    }
   ],
   "source": [
    "data[data[\"Weather Condition\"] == 'Fog']"
   ]
  },
  {
   "cell_type": "markdown",
   "metadata": {},
   "source": [
    "### **Q14) Find all instances when 'Wheater is Clear\" or Visibility is above 40.**"
   ]
  },
  {
   "cell_type": "code",
   "execution_count": 113,
   "metadata": {},
   "outputs": [
    {
     "data": {
      "text/html": [
       "<div>\n",
       "<style scoped>\n",
       "    .dataframe tbody tr th:only-of-type {\n",
       "        vertical-align: middle;\n",
       "    }\n",
       "\n",
       "    .dataframe tbody tr th {\n",
       "        vertical-align: top;\n",
       "    }\n",
       "\n",
       "    .dataframe thead th {\n",
       "        text-align: right;\n",
       "    }\n",
       "</style>\n",
       "<table border=\"1\" class=\"dataframe\">\n",
       "  <thead>\n",
       "    <tr style=\"text-align: right;\">\n",
       "      <th></th>\n",
       "      <th>Date/Time</th>\n",
       "      <th>Temp_C</th>\n",
       "      <th>Dew Point Temp_C</th>\n",
       "      <th>Rel Hum_%</th>\n",
       "      <th>Wind Speed_km/h</th>\n",
       "      <th>Visibility_km</th>\n",
       "      <th>Press_kPa</th>\n",
       "      <th>Weather Condition</th>\n",
       "    </tr>\n",
       "  </thead>\n",
       "  <tbody>\n",
       "    <tr>\n",
       "      <th>67</th>\n",
       "      <td>1/3/2012 19:00</td>\n",
       "      <td>-16.9</td>\n",
       "      <td>-24.8</td>\n",
       "      <td>50</td>\n",
       "      <td>24</td>\n",
       "      <td>25.0</td>\n",
       "      <td>101.74</td>\n",
       "      <td>Clear</td>\n",
       "    </tr>\n",
       "    <tr>\n",
       "      <th>106</th>\n",
       "      <td>1/5/2012 10:00</td>\n",
       "      <td>-6.0</td>\n",
       "      <td>-10.0</td>\n",
       "      <td>73</td>\n",
       "      <td>17</td>\n",
       "      <td>48.3</td>\n",
       "      <td>100.45</td>\n",
       "      <td>Mainly Clear</td>\n",
       "    </tr>\n",
       "    <tr>\n",
       "      <th>107</th>\n",
       "      <td>1/5/2012 11:00</td>\n",
       "      <td>-5.6</td>\n",
       "      <td>-10.2</td>\n",
       "      <td>70</td>\n",
       "      <td>22</td>\n",
       "      <td>48.3</td>\n",
       "      <td>100.41</td>\n",
       "      <td>Mainly Clear</td>\n",
       "    </tr>\n",
       "    <tr>\n",
       "      <th>108</th>\n",
       "      <td>1/5/2012 12:00</td>\n",
       "      <td>-4.7</td>\n",
       "      <td>-9.6</td>\n",
       "      <td>69</td>\n",
       "      <td>20</td>\n",
       "      <td>48.3</td>\n",
       "      <td>100.38</td>\n",
       "      <td>Mainly Clear</td>\n",
       "    </tr>\n",
       "    <tr>\n",
       "      <th>109</th>\n",
       "      <td>1/5/2012 13:00</td>\n",
       "      <td>-4.4</td>\n",
       "      <td>-9.7</td>\n",
       "      <td>66</td>\n",
       "      <td>26</td>\n",
       "      <td>48.3</td>\n",
       "      <td>100.40</td>\n",
       "      <td>Mainly Clear</td>\n",
       "    </tr>\n",
       "    <tr>\n",
       "      <th>...</th>\n",
       "      <td>...</td>\n",
       "      <td>...</td>\n",
       "      <td>...</td>\n",
       "      <td>...</td>\n",
       "      <td>...</td>\n",
       "      <td>...</td>\n",
       "      <td>...</td>\n",
       "      <td>...</td>\n",
       "    </tr>\n",
       "    <tr>\n",
       "      <th>8749</th>\n",
       "      <td>12/30/2012 13:00</td>\n",
       "      <td>-12.4</td>\n",
       "      <td>-16.2</td>\n",
       "      <td>73</td>\n",
       "      <td>37</td>\n",
       "      <td>48.3</td>\n",
       "      <td>100.92</td>\n",
       "      <td>Mostly Cloudy</td>\n",
       "    </tr>\n",
       "    <tr>\n",
       "      <th>8750</th>\n",
       "      <td>12/30/2012 14:00</td>\n",
       "      <td>-11.8</td>\n",
       "      <td>-16.1</td>\n",
       "      <td>70</td>\n",
       "      <td>37</td>\n",
       "      <td>48.3</td>\n",
       "      <td>100.96</td>\n",
       "      <td>Mainly Clear</td>\n",
       "    </tr>\n",
       "    <tr>\n",
       "      <th>8751</th>\n",
       "      <td>12/30/2012 15:00</td>\n",
       "      <td>-11.3</td>\n",
       "      <td>-15.6</td>\n",
       "      <td>70</td>\n",
       "      <td>32</td>\n",
       "      <td>48.3</td>\n",
       "      <td>101.05</td>\n",
       "      <td>Mainly Clear</td>\n",
       "    </tr>\n",
       "    <tr>\n",
       "      <th>8752</th>\n",
       "      <td>12/30/2012 16:00</td>\n",
       "      <td>-11.4</td>\n",
       "      <td>-15.5</td>\n",
       "      <td>72</td>\n",
       "      <td>26</td>\n",
       "      <td>48.3</td>\n",
       "      <td>101.15</td>\n",
       "      <td>Mainly Clear</td>\n",
       "    </tr>\n",
       "    <tr>\n",
       "      <th>8756</th>\n",
       "      <td>12/30/2012 20:00</td>\n",
       "      <td>-13.8</td>\n",
       "      <td>-16.5</td>\n",
       "      <td>80</td>\n",
       "      <td>24</td>\n",
       "      <td>25.0</td>\n",
       "      <td>101.52</td>\n",
       "      <td>Clear</td>\n",
       "    </tr>\n",
       "  </tbody>\n",
       "</table>\n",
       "<p>3027 rows × 8 columns</p>\n",
       "</div>"
      ],
      "text/plain": [
       "             Date/Time  Temp_C  Dew Point Temp_C  Rel Hum_%  Wind Speed_km/h  Visibility_km  Press_kPa Weather Condition\n",
       "67      1/3/2012 19:00   -16.9             -24.8         50               24           25.0     101.74             Clear\n",
       "106     1/5/2012 10:00    -6.0             -10.0         73               17           48.3     100.45      Mainly Clear\n",
       "107     1/5/2012 11:00    -5.6             -10.2         70               22           48.3     100.41      Mainly Clear\n",
       "108     1/5/2012 12:00    -4.7              -9.6         69               20           48.3     100.38      Mainly Clear\n",
       "109     1/5/2012 13:00    -4.4              -9.7         66               26           48.3     100.40      Mainly Clear\n",
       "...                ...     ...               ...        ...              ...            ...        ...               ...\n",
       "8749  12/30/2012 13:00   -12.4             -16.2         73               37           48.3     100.92     Mostly Cloudy\n",
       "8750  12/30/2012 14:00   -11.8             -16.1         70               37           48.3     100.96      Mainly Clear\n",
       "8751  12/30/2012 15:00   -11.3             -15.6         70               32           48.3     101.05      Mainly Clear\n",
       "8752  12/30/2012 16:00   -11.4             -15.5         72               26           48.3     101.15      Mainly Clear\n",
       "8756  12/30/2012 20:00   -13.8             -16.5         80               24           25.0     101.52             Clear\n",
       "\n",
       "[3027 rows x 8 columns]"
      ]
     },
     "execution_count": 113,
     "metadata": {},
     "output_type": "execute_result"
    }
   ],
   "source": [
    "cond = data[(data[\"Weather Condition\"]==\"Clear\") | (data[\"Visibility_km\"] > 40)]\n",
    "cond"
   ]
  },
  {
   "cell_type": "markdown",
   "metadata": {},
   "source": [
    "### **Q15) Find all instance when**:\n",
    "1) \"Weather is Clear\" and \"Relative Humidity\" is greater than 50\n",
    "OR\n",
    "2) \"Visibility\" is above 40"
   ]
  },
  {
   "cell_type": "code",
   "execution_count": 115,
   "metadata": {},
   "outputs": [
    {
     "data": {
      "text/html": [
       "<div>\n",
       "<style scoped>\n",
       "    .dataframe tbody tr th:only-of-type {\n",
       "        vertical-align: middle;\n",
       "    }\n",
       "\n",
       "    .dataframe tbody tr th {\n",
       "        vertical-align: top;\n",
       "    }\n",
       "\n",
       "    .dataframe thead th {\n",
       "        text-align: right;\n",
       "    }\n",
       "</style>\n",
       "<table border=\"1\" class=\"dataframe\">\n",
       "  <thead>\n",
       "    <tr style=\"text-align: right;\">\n",
       "      <th></th>\n",
       "      <th>Date/Time</th>\n",
       "      <th>Temp_C</th>\n",
       "      <th>Dew Point Temp_C</th>\n",
       "      <th>Rel Hum_%</th>\n",
       "      <th>Wind Speed_km/h</th>\n",
       "      <th>Visibility_km</th>\n",
       "      <th>Press_kPa</th>\n",
       "      <th>Weather Condition</th>\n",
       "    </tr>\n",
       "  </thead>\n",
       "  <tbody>\n",
       "    <tr>\n",
       "      <th>106</th>\n",
       "      <td>1/5/2012 10:00</td>\n",
       "      <td>-6.0</td>\n",
       "      <td>-10.0</td>\n",
       "      <td>73</td>\n",
       "      <td>17</td>\n",
       "      <td>48.3</td>\n",
       "      <td>100.45</td>\n",
       "      <td>Mainly Clear</td>\n",
       "    </tr>\n",
       "    <tr>\n",
       "      <th>107</th>\n",
       "      <td>1/5/2012 11:00</td>\n",
       "      <td>-5.6</td>\n",
       "      <td>-10.2</td>\n",
       "      <td>70</td>\n",
       "      <td>22</td>\n",
       "      <td>48.3</td>\n",
       "      <td>100.41</td>\n",
       "      <td>Mainly Clear</td>\n",
       "    </tr>\n",
       "    <tr>\n",
       "      <th>108</th>\n",
       "      <td>1/5/2012 12:00</td>\n",
       "      <td>-4.7</td>\n",
       "      <td>-9.6</td>\n",
       "      <td>69</td>\n",
       "      <td>20</td>\n",
       "      <td>48.3</td>\n",
       "      <td>100.38</td>\n",
       "      <td>Mainly Clear</td>\n",
       "    </tr>\n",
       "    <tr>\n",
       "      <th>109</th>\n",
       "      <td>1/5/2012 13:00</td>\n",
       "      <td>-4.4</td>\n",
       "      <td>-9.7</td>\n",
       "      <td>66</td>\n",
       "      <td>26</td>\n",
       "      <td>48.3</td>\n",
       "      <td>100.40</td>\n",
       "      <td>Mainly Clear</td>\n",
       "    </tr>\n",
       "    <tr>\n",
       "      <th>110</th>\n",
       "      <td>1/5/2012 14:00</td>\n",
       "      <td>-5.1</td>\n",
       "      <td>-10.7</td>\n",
       "      <td>65</td>\n",
       "      <td>22</td>\n",
       "      <td>48.3</td>\n",
       "      <td>100.46</td>\n",
       "      <td>Mainly Clear</td>\n",
       "    </tr>\n",
       "    <tr>\n",
       "      <th>...</th>\n",
       "      <td>...</td>\n",
       "      <td>...</td>\n",
       "      <td>...</td>\n",
       "      <td>...</td>\n",
       "      <td>...</td>\n",
       "      <td>...</td>\n",
       "      <td>...</td>\n",
       "      <td>...</td>\n",
       "    </tr>\n",
       "    <tr>\n",
       "      <th>8749</th>\n",
       "      <td>12/30/2012 13:00</td>\n",
       "      <td>-12.4</td>\n",
       "      <td>-16.2</td>\n",
       "      <td>73</td>\n",
       "      <td>37</td>\n",
       "      <td>48.3</td>\n",
       "      <td>100.92</td>\n",
       "      <td>Mostly Cloudy</td>\n",
       "    </tr>\n",
       "    <tr>\n",
       "      <th>8750</th>\n",
       "      <td>12/30/2012 14:00</td>\n",
       "      <td>-11.8</td>\n",
       "      <td>-16.1</td>\n",
       "      <td>70</td>\n",
       "      <td>37</td>\n",
       "      <td>48.3</td>\n",
       "      <td>100.96</td>\n",
       "      <td>Mainly Clear</td>\n",
       "    </tr>\n",
       "    <tr>\n",
       "      <th>8751</th>\n",
       "      <td>12/30/2012 15:00</td>\n",
       "      <td>-11.3</td>\n",
       "      <td>-15.6</td>\n",
       "      <td>70</td>\n",
       "      <td>32</td>\n",
       "      <td>48.3</td>\n",
       "      <td>101.05</td>\n",
       "      <td>Mainly Clear</td>\n",
       "    </tr>\n",
       "    <tr>\n",
       "      <th>8752</th>\n",
       "      <td>12/30/2012 16:00</td>\n",
       "      <td>-11.4</td>\n",
       "      <td>-15.5</td>\n",
       "      <td>72</td>\n",
       "      <td>26</td>\n",
       "      <td>48.3</td>\n",
       "      <td>101.15</td>\n",
       "      <td>Mainly Clear</td>\n",
       "    </tr>\n",
       "    <tr>\n",
       "      <th>8756</th>\n",
       "      <td>12/30/2012 20:00</td>\n",
       "      <td>-13.8</td>\n",
       "      <td>-16.5</td>\n",
       "      <td>80</td>\n",
       "      <td>24</td>\n",
       "      <td>25.0</td>\n",
       "      <td>101.52</td>\n",
       "      <td>Clear</td>\n",
       "    </tr>\n",
       "  </tbody>\n",
       "</table>\n",
       "<p>2921 rows × 8 columns</p>\n",
       "</div>"
      ],
      "text/plain": [
       "             Date/Time  Temp_C  Dew Point Temp_C  Rel Hum_%  Wind Speed_km/h  Visibility_km  Press_kPa Weather Condition\n",
       "106     1/5/2012 10:00    -6.0             -10.0         73               17           48.3     100.45      Mainly Clear\n",
       "107     1/5/2012 11:00    -5.6             -10.2         70               22           48.3     100.41      Mainly Clear\n",
       "108     1/5/2012 12:00    -4.7              -9.6         69               20           48.3     100.38      Mainly Clear\n",
       "109     1/5/2012 13:00    -4.4              -9.7         66               26           48.3     100.40      Mainly Clear\n",
       "110     1/5/2012 14:00    -5.1             -10.7         65               22           48.3     100.46      Mainly Clear\n",
       "...                ...     ...               ...        ...              ...            ...        ...               ...\n",
       "8749  12/30/2012 13:00   -12.4             -16.2         73               37           48.3     100.92     Mostly Cloudy\n",
       "8750  12/30/2012 14:00   -11.8             -16.1         70               37           48.3     100.96      Mainly Clear\n",
       "8751  12/30/2012 15:00   -11.3             -15.6         70               32           48.3     101.05      Mainly Clear\n",
       "8752  12/30/2012 16:00   -11.4             -15.5         72               26           48.3     101.15      Mainly Clear\n",
       "8756  12/30/2012 20:00   -13.8             -16.5         80               24           25.0     101.52             Clear\n",
       "\n",
       "[2921 rows x 8 columns]"
      ]
     },
     "execution_count": 115,
     "metadata": {},
     "output_type": "execute_result"
    }
   ],
   "source": [
    "cond = data[((data[\"Weather Condition\"]==\"Clear\") & (data[\"Rel Hum_%\"]>50))|(data[\"Visibility_km\"]>40)]\n",
    "cond"
   ]
  },
  {
   "cell_type": "code",
   "execution_count": null,
   "metadata": {},
   "outputs": [],
   "source": []
  }
 ],
 "metadata": {
  "kernelspec": {
   "display_name": "datasci_env",
   "language": "python",
   "name": "python3"
  },
  "language_info": {
   "codemirror_mode": {
    "name": "ipython",
    "version": 3
   },
   "file_extension": ".py",
   "mimetype": "text/x-python",
   "name": "python",
   "nbconvert_exporter": "python",
   "pygments_lexer": "ipython3",
   "version": "3.9.13"
  },
  "orig_nbformat": 4
 },
 "nbformat": 4,
 "nbformat_minor": 2
}
